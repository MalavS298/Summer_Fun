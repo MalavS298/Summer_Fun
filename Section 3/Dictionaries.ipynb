{
 "cells": [
  {
   "metadata": {},
   "cell_type": "code",
   "source": [
    "my_prices = {'apples':2.99, 'oranges':3.99, 'pears':4.99}\n",
    "my_prices['apples']"
   ],
   "id": "e5062049e5aa00d9",
   "outputs": [],
   "execution_count": null
  },
  {
   "metadata": {},
   "cell_type": "markdown",
   "source": "This code shown above ^ is an example of a dictionary. It stores multiple keys and values and then outputs whichever one you want",
   "id": "71dbabacc7f3ea4c"
  },
  {
   "metadata": {},
   "cell_type": "code",
   "source": [
    "d = {'key1':['a', 'b', 'c']}\n",
    "d['key1'][0]"
   ],
   "id": "7733cf4cfbafaae0",
   "outputs": [],
   "execution_count": null
  },
  {
   "metadata": {},
   "cell_type": "markdown",
   "source": "This code above ^ shows how dictionaries work with lists",
   "id": "f5a7f58ddd34ff8c"
  },
  {
   "metadata": {},
   "cell_type": "code",
   "source": [
    "d.keys()\n",
    "d.values()\n",
    "d.items()"
   ],
   "id": "53e009d48616ef4d",
   "outputs": [],
   "execution_count": null
  },
  {
   "metadata": {},
   "cell_type": "markdown",
   "source": [
    "d.keys() - Returns all the keys in the dictionary\n",
    "\n",
    "d.values() - Returns all the values in the dictionary\n",
    "\n",
    "d.items() - Returns all the key-value pairs in the dictionary"
   ],
   "id": "ce5f5ca9d564efee"
  }
 ],
 "metadata": {
  "kernelspec": {
   "display_name": "Python 3",
   "language": "python",
   "name": "python3"
  },
  "language_info": {
   "codemirror_mode": {
    "name": "ipython",
    "version": 2
   },
   "file_extension": ".py",
   "mimetype": "text/x-python",
   "name": "python",
   "nbconvert_exporter": "python",
   "pygments_lexer": "ipython2",
   "version": "2.7.6"
  }
 },
 "nbformat": 4,
 "nbformat_minor": 5
}
