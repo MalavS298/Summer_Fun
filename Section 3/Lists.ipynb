{
 "cells": [
  {
   "metadata": {},
   "cell_type": "code",
   "source": [
    "my_list = [1, 2, 3]\n",
    "len(my_list)"
   ],
   "id": "30c0a764432ed80e",
   "outputs": [],
   "execution_count": null
  },
  {
   "metadata": {},
   "cell_type": "markdown",
   "source": "This code above ^ checks the length of a list",
   "id": "4bc0013e74c68246"
  },
  {
   "metadata": {},
   "cell_type": "code",
   "source": [
    "my_list = [1, 2, 3]\n",
    "my_list[1:]"
   ],
   "id": "25a1bd88b186e0c4",
   "outputs": [],
   "execution_count": null
  },
  {
   "metadata": {},
   "cell_type": "markdown",
   "source": "This code above ^ slices the string",
   "id": "d0dd85b7d073f908"
  },
  {
   "metadata": {},
   "cell_type": "code",
   "source": [
    "my_list = [1, 2, 3]\n",
    "my_list[0] = 'One'\n",
    "print(my_list)"
   ],
   "id": "f4793faa0a70b436",
   "outputs": [],
   "execution_count": null
  },
  {
   "metadata": {},
   "cell_type": "markdown",
   "source": "Individual Elements CAN be changed in lists ^",
   "id": "b07411a8cc6bccbb"
  },
  {
   "metadata": {},
   "cell_type": "code",
   "source": [
    "my_list = [1, 2, 3]\n",
    "my_list.append(4)\n",
    "print(my_list)"
   ],
   "id": "562680cf6e67ce5e",
   "outputs": [],
   "execution_count": null
  },
  {
   "metadata": {},
   "cell_type": "markdown",
   "source": "You can easily add new items to a list using the append feature ^",
   "id": "4779b6517d55f77c"
  },
  {
   "metadata": {},
   "cell_type": "code",
   "source": [
    "my_list = [1, 2, 3]\n",
    "my_list.pop(0)\n",
    "print(my_list)"
   ],
   "id": "a8aad4e66a2c09ab",
   "outputs": [],
   "execution_count": null
  },
  {
   "metadata": {},
   "cell_type": "markdown",
   "source": "You can easily remove items from a list using the pop feature ^",
   "id": "269c2e3c8aa6f583"
  },
  {
   "metadata": {},
   "cell_type": "code",
   "source": [
    "my_list = [5, 6, 4]\n",
    "my_list.sort()\n",
    "print(my_list)"
   ],
   "id": "ca7ed0caea1cabeb",
   "outputs": [],
   "execution_count": null
  },
  {
   "metadata": {},
   "cell_type": "markdown",
   "source": "This easily allows us to sort numbers or letters using the sort feature ^",
   "id": "e3be0809d7876b38"
  },
  {
   "metadata": {},
   "cell_type": "code",
   "outputs": [],
   "execution_count": null,
   "source": "",
   "id": "998cad3bbe2ffe7d"
  }
 ],
 "metadata": {
  "kernelspec": {
   "display_name": "Python 3",
   "language": "python",
   "name": "python3"
  },
  "language_info": {
   "codemirror_mode": {
    "name": "ipython",
    "version": 2
   },
   "file_extension": ".py",
   "mimetype": "text/x-python",
   "name": "python",
   "nbconvert_exporter": "python",
   "pygments_lexer": "ipython2",
   "version": "2.7.6"
  }
 },
 "nbformat": 4,
 "nbformat_minor": 5
}
