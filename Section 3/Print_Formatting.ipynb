{
 "cells": [
  {
   "metadata": {
    "ExecuteTime": {
     "end_time": "2025-06-07T22:25:29.663317Z",
     "start_time": "2025-06-07T22:25:29.647584Z"
    }
   },
   "cell_type": "code",
   "source": [
    "name = \"Malav\"\n",
    "print('Hello {} You are {} years old'.format('Malav','12'))"
   ],
   "id": "d94dffc4d379faef",
   "outputs": [
    {
     "name": "stdout",
     "output_type": "stream",
     "text": [
      "Hello Malav You are 12 years old\n"
     ]
    }
   ],
   "execution_count": 46
  },
  {
   "metadata": {
    "ExecuteTime": {
     "end_time": "2025-06-07T22:24:28.769230Z",
     "start_time": "2025-06-07T22:24:28.756731Z"
    }
   },
   "cell_type": "code",
   "source": [
    "name = 'Malav'\n",
    "age = 12\n",
    "print(f'Hello {name} You are {age} years old')"
   ],
   "id": "76361817c614dea5",
   "outputs": [
    {
     "name": "stdout",
     "output_type": "stream",
     "text": [
      "Hello Malav You are 12 years old\n"
     ]
    }
   ],
   "execution_count": 45
  }
 ],
 "metadata": {
  "kernelspec": {
   "display_name": "Python 3",
   "language": "python",
   "name": "python3"
  },
  "language_info": {
   "codemirror_mode": {
    "name": "ipython",
    "version": 2
   },
   "file_extension": ".py",
   "mimetype": "text/x-python",
   "name": "python",
   "nbconvert_exporter": "python",
   "pygments_lexer": "ipython2",
   "version": "2.7.6"
  }
 },
 "nbformat": 4,
 "nbformat_minor": 5
}
