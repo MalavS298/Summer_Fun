{
 "cells": [
  {
   "metadata": {},
   "cell_type": "code",
   "source": [
    "name = \"Malav\"\n",
    "print('Hello {} You are {} years old'.format('Malav','12'))"
   ],
   "id": "d94dffc4d379faef",
   "outputs": [],
   "execution_count": null
  },
  {
   "metadata": {},
   "cell_type": "markdown",
   "source": "This combines strings using the format method",
   "id": "3c9bbb7c51daf51b"
  },
  {
   "metadata": {},
   "cell_type": "code",
   "source": [
    "name = 'Malav'\n",
    "age = 12\n",
    "print(f'Hello {name} You are {age} years old')"
   ],
   "id": "76361817c614dea5",
   "outputs": [],
   "execution_count": null
  },
  {
   "metadata": {},
   "cell_type": "markdown",
   "source": "This combines strings using the f-string method",
   "id": "767c363072c86f67"
  }
 ],
 "metadata": {
  "kernelspec": {
   "display_name": "Python 3",
   "language": "python",
   "name": "python3"
  },
  "language_info": {
   "codemirror_mode": {
    "name": "ipython",
    "version": 2
   },
   "file_extension": ".py",
   "mimetype": "text/x-python",
   "name": "python",
   "nbconvert_exporter": "python",
   "pygments_lexer": "ipython2",
   "version": "2.7.6"
  }
 },
 "nbformat": 4,
 "nbformat_minor": 5
}
