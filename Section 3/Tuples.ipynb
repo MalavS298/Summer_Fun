{
 "cells": [
  {
   "cell_type": "code",
   "id": "initial_id",
   "metadata": {
    "collapsed": true
   },
   "source": [
    "t = (1,2,3) #Tuple\n",
    "mylist = [1,2,3] #List"
   ],
   "outputs": [],
   "execution_count": null
  },
  {
   "metadata": {},
   "cell_type": "code",
   "source": [
    "t = (1,1,2,3)\n",
    "print(t.count(1))\n",
    "print(t.index(3))"
   ],
   "id": "6a3896a9d1f0c3e9",
   "outputs": [],
   "execution_count": null
  },
  {
   "metadata": {},
   "cell_type": "markdown",
   "source": [
    "t.count() - Measures how many instances of that value are in the tuple.\n",
    "\n",
    "t.index() - Measures the first instance of that value"
   ],
   "id": "af9b0293b3633c75"
  },
  {
   "metadata": {},
   "cell_type": "markdown",
   "source": "Tuples can NOT be changed like lists.",
   "id": "ccaebd6b9f34714a"
  }
 ],
 "metadata": {
  "kernelspec": {
   "display_name": "Python 3",
   "language": "python",
   "name": "python3"
  },
  "language_info": {
   "codemirror_mode": {
    "name": "ipython",
    "version": 2
   },
   "file_extension": ".py",
   "mimetype": "text/x-python",
   "name": "python",
   "nbconvert_exporter": "python",
   "pygments_lexer": "ipython2",
   "version": "2.7.6"
  }
 },
 "nbformat": 4,
 "nbformat_minor": 5
}
