{
 "cells": [
  {
   "metadata": {
    "ExecuteTime": {
     "end_time": "2025-06-08T19:53:26.961178Z",
     "start_time": "2025-06-08T19:53:26.874387Z"
    }
   },
   "cell_type": "code",
   "source": [
    "%%writefile test.txt\n",
    "Hello this is a text file\n",
    "this is the second line\n",
    "this is the third line"
   ],
   "id": "458abc4d3bc326c",
   "outputs": [
    {
     "name": "stdout",
     "output_type": "stream",
     "text": [
      "Overwriting test.txt\n"
     ]
    }
   ],
   "execution_count": 24
  },
  {
   "metadata": {
    "ExecuteTime": {
     "end_time": "2025-06-08T19:06:31.735953Z",
     "start_time": "2025-06-08T19:06:31.696087Z"
    }
   },
   "cell_type": "code",
   "source": "test = open('test.txt')",
   "id": "9e467443ebd409b7",
   "outputs": [],
   "execution_count": 10
  },
  {
   "metadata": {},
   "cell_type": "markdown",
   "source": "This code above creates a new text file and then opens it up to be further coded ^",
   "id": "dc9393fd8f119dd6"
  },
  {
   "metadata": {},
   "cell_type": "code",
   "outputs": [],
   "execution_count": null,
   "source": [
    "test.seek(0)\n",
    "test.read()\n",
    "test.seek(0)\n",
    "test.readlines()"
   ],
   "id": "3a2f1743284c22a0"
  },
  {
   "metadata": {},
   "cell_type": "code",
   "outputs": [],
   "execution_count": 13,
   "source": "test.close()",
   "id": "2ee412317f7e9213"
  },
  {
   "metadata": {},
   "cell_type": "markdown",
   "source": [
    "This code above acts on the text file and then closes it to be used again ^\n",
    "\n",
    "test.seek(0): This resets the position of the cursor\n",
    "\n",
    "test.read(): This shows all the text in the file\n",
    "\n",
    "test.readlines(): This shows all the text in the file ordered as lines"
   ],
   "id": "9ce4b171d0750f80"
  },
  {
   "metadata": {},
   "cell_type": "code",
   "source": [
    "with open('test.txt',mode='r') as my_new_file:\n",
    "    content = my_new_file.read()\n",
    "content"
   ],
   "id": "6dd05f26547e0d1d",
   "outputs": [],
   "execution_count": null
  },
  {
   "metadata": {},
   "cell_type": "markdown",
   "source": [
    "This function ^ creates a new variable for the .txt file and then opens it to be further modified. This way, you don't need to worry about closing the file. There are different modes which all do a different function:\n",
    "\n",
    "'r': Read - Read ONLY\n",
    "\n",
    "'w': Write - Write ONLY (Will overwrite or create new files)\n",
    "\n",
    "'a': Append - Append ONLY (Will add on to files)"
   ],
   "id": "c0f69df99fdf5c7"
  },
  {
   "metadata": {},
   "cell_type": "code",
   "source": [
    "with open('test.txt', mode='r') as f:\n",
    "    print(f.read())\n",
    "# This is how to do the 'r',Read ONLY Mode"
   ],
   "id": "f49fb5250a63a08c",
   "outputs": [],
   "execution_count": null
  },
  {
   "metadata": {},
   "cell_type": "code",
   "source": [
    "with open('test.txt', mode='a') as f:\n",
    "    f.write('/nthis is the fourth line')\n",
    "# This is how to do the 'a',Append ONLY Mode"
   ],
   "id": "14900128bd4e8a5a",
   "outputs": [],
   "execution_count": null
  },
  {
   "metadata": {},
   "cell_type": "code",
   "source": [
    "with open('dshdhs.txt', mode='w') as f:\n",
    "    f.write(\"I created this New File using 'w'\")\n",
    "# This is how to do the 'w',WRITE ONLY Mode"
   ],
   "id": "75acba97721c63d7",
   "outputs": [],
   "execution_count": null
  }
 ],
 "metadata": {
  "kernelspec": {
   "display_name": "Python 3",
   "language": "python",
   "name": "python3"
  },
  "language_info": {
   "codemirror_mode": {
    "name": "ipython",
    "version": 2
   },
   "file_extension": ".py",
   "mimetype": "text/x-python",
   "name": "python",
   "nbconvert_exporter": "python",
   "pygments_lexer": "ipython2",
   "version": "2.7.6"
  }
 },
 "nbformat": 4,
 "nbformat_minor": 5
}
