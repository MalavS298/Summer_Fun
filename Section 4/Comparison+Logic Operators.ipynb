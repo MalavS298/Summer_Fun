{
 "cells": [
  {
   "metadata": {},
   "cell_type": "markdown",
   "source": "Logical Operators: \"And\", \"Or\", \"Not\"",
   "id": "41390dc80facfbde"
  },
  {
   "metadata": {},
   "cell_type": "code",
   "source": [
    "# Example of logical operators: and\n",
    "1<2 and 5>3"
   ],
   "id": "200761ccaba97c93",
   "outputs": [],
   "execution_count": null
  },
  {
   "metadata": {},
   "cell_type": "code",
   "source": [
    "# Example of logical operators: or\n",
    "5<2 or 4>3"
   ],
   "id": "ea677aadf620929",
   "outputs": [],
   "execution_count": null
  },
  {
   "metadata": {
    "ExecuteTime": {
     "end_time": "2025-06-08T22:19:19.684747Z",
     "start_time": "2025-06-08T22:19:19.668770Z"
    }
   },
   "cell_type": "code",
   "source": [
    "# Example of logical operators: not\n",
    "not 5>7"
   ],
   "id": "11bda63ac3334ae9",
   "outputs": [
    {
     "data": {
      "text/plain": [
       "True"
      ]
     },
     "execution_count": 5,
     "metadata": {},
     "output_type": "execute_result"
    }
   ],
   "execution_count": 5
  }
 ],
 "metadata": {
  "kernelspec": {
   "display_name": "Python 3",
   "language": "python",
   "name": "python3"
  },
  "language_info": {
   "codemirror_mode": {
    "name": "ipython",
    "version": 2
   },
   "file_extension": ".py",
   "mimetype": "text/x-python",
   "name": "python",
   "nbconvert_exporter": "python",
   "pygments_lexer": "ipython2",
   "version": "2.7.6"
  }
 },
 "nbformat": 4,
 "nbformat_minor": 5
}
