{
 "cells": [
  {
   "metadata": {},
   "cell_type": "markdown",
   "source": [
    "'==': Equal To\n",
    "\n",
    "'!=': Not Equal To\n",
    "\n",
    "'>': Greater Than\n",
    "\n",
    "'<': Less Than\n",
    "\n",
    "'>=': Greater Than Equal To\n",
    "\n",
    "'<=': Less than Equal To"
   ],
   "id": "c57275b62e3ae656"
  }
 ],
 "metadata": {
  "kernelspec": {
   "display_name": "Python 3",
   "language": "python",
   "name": "python3"
  },
  "language_info": {
   "codemirror_mode": {
    "name": "ipython",
    "version": 2
   },
   "file_extension": ".py",
   "mimetype": "text/x-python",
   "name": "python",
   "nbconvert_exporter": "python",
   "pygments_lexer": "ipython2",
   "version": "2.7.6"
  }
 },
 "nbformat": 4,
 "nbformat_minor": 5
}
