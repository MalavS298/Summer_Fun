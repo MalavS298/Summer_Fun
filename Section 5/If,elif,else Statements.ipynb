{
 "cells": [
  {
   "metadata": {},
   "cell_type": "markdown",
   "source": "Logic Operators allow us to execute something if it meets a requirement. The Three Keywords used to do this are,\"If\", \"Elif\", and \"Else\"",
   "id": "1112371e4458e2fa"
  },
  {
   "metadata": {},
   "cell_type": "code",
   "source": [
    "#If Statement with Else and Elif:\n",
    "\n",
    "if 5>3:\n",
    "    print(\"This is an example of a if statement\")\n",
    "elif 4>2:\n",
    "    print(\"This is an example of a else statement in which you can add another condition\")\n",
    "else:\n",
    "    print(\"This is an example of an else statement\")"
   ],
   "id": "2fbcd669b5065338",
   "outputs": [],
   "execution_count": null
  }
 ],
 "metadata": {
  "kernelspec": {
   "display_name": "Python 3",
   "language": "python",
   "name": "python3"
  },
  "language_info": {
   "codemirror_mode": {
    "name": "ipython",
    "version": 2
   },
   "file_extension": ".py",
   "mimetype": "text/x-python",
   "name": "python",
   "nbconvert_exporter": "python",
   "pygments_lexer": "ipython2",
   "version": "2.7.6"
  }
 },
 "nbformat": 4,
 "nbformat_minor": 5
}
